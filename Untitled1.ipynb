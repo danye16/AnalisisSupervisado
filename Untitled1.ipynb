{
  "nbformat": 4,
  "nbformat_minor": 0,
  "metadata": {
    "colab": {
      "provenance": []
    },
    "kernelspec": {
      "name": "python3",
      "display_name": "Python 3"
    },
    "language_info": {
      "name": "python"
    }
  },
  "cells": [
    {
      "cell_type": "code",
      "execution_count": 7,
      "metadata": {
        "colab": {
          "base_uri": "https://localhost:8080/"
        },
        "id": "UqEaeNDZiJ0c",
        "outputId": "f2d3557d-c42c-400c-eaf6-95a4eaa23f7e"
      },
      "outputs": [
        {
          "output_type": "stream",
          "name": "stdout",
          "text": [
            "Resultados del Modelo de Clasificación (Random Forest):\n",
            "Precisión (Accuracy): 0.88\n",
            "Exactitud (Precision): 0.75\n",
            "Sensibilidad (Recall): 0.12\n",
            "Puntuación F1 (F1-Score): 0.20\n",
            "\n",
            "Mejores parámetros encontrados para el modelo de clasificación: {'max_depth': None, 'n_estimators': 100}\n",
            "\n",
            "Resultados del Modelo de Clasificación OPTIMIZADO:\n",
            "Precisión (Accuracy): 0.88\n",
            "Exactitud (Precision): 0.75\n",
            "Sensibilidad (Recall): 0.12\n",
            "Puntuación F1 (F1-Score): 0.20\n",
            "\n",
            "Resultados del Modelo de Regresión (Regresión Lineal):\n",
            "Error Cuadrático Medio de la Raíz (RMSE): 1.20\n",
            "Coeficiente de Determinación (R2): 0.87\n"
          ]
        }
      ],
      "source": [
        "import pandas as pd\n",
        "import numpy as np\n",
        "from sklearn.model_selection import train_test_split, GridSearchCV\n",
        "from sklearn.tree import DecisionTreeClassifier\n",
        "from sklearn.ensemble import RandomForestClassifier\n",
        "from sklearn.linear_model import LinearRegression\n",
        "from sklearn.metrics import accuracy_score, precision_score, recall_score, f1_score, mean_squared_error, r2_score\n",
        "from sklearn.preprocessing import LabelEncoder\n",
        "\n",
        "# 1. Cargar y preparar los datos\n",
        "datos = pd.read_csv('student dropout.csv')\n",
        "\n",
        "datos['Dropped_Out'] = datos['Dropped_Out'].astype(int)\n",
        "le = LabelEncoder()\n",
        "columnas_texto = ['School', 'Gender', 'Address', 'Family_Size', 'Parental_Status', 'Mother_Job', 'Father_Job', 'Reason_for_Choosing_School', 'Guardian', 'School_Support', 'Family_Support', 'Extra_Paid_Class', 'Extra_Curricular_Activities', 'Attended_Nursery', 'Wants_Higher_Education', 'Internet_Access', 'In_Relationship']\n",
        "for col in columnas_texto:\n",
        "    datos[col] = le.fit_transform(datos[col])\n",
        "\n",
        "# 2. Análisis Supervisado: Clasificación con Random Forest\n",
        "# Objetivo: Predecir si el estudiante deserta (Dropped_Out)\n",
        "X_clasificacion = datos.drop(['Grade_1', 'Grade_2', 'Final_Grade', 'Dropped_Out'], axis=1)\n",
        "y_clasificacion = datos['Dropped_Out']\n",
        "X_train_c, X_test_c, y_train_c, y_test_c = train_test_split(X_clasificacion, y_clasificacion, test_size=0.3, random_state=42)\n",
        "\n",
        "# Modelo inicial de Random Forest\n",
        "modelo_rf = RandomForestClassifier(random_state=42)\n",
        "modelo_rf.fit(X_train_c, y_train_c)\n",
        "predicciones_c = modelo_rf.predict(X_test_c)\n",
        "\n",
        "precision_c = accuracy_score(y_test_c, predicciones_c)\n",
        "exactitud_c = precision_score(y_test_c, predicciones_c)\n",
        "sensibilidad_c = recall_score(y_test_c, predicciones_c)\n",
        "puntuacion_F1_c = f1_score(y_test_c, predicciones_c)\n",
        "\n",
        "print(\"Resultados del Modelo de Clasificación (Random Forest):\")\n",
        "print(f\"Precisión (Accuracy): {precision_c:.2f}\")\n",
        "print(f\"Exactitud (Precision): {exactitud_c:.2f}\")\n",
        "print(f\"Sensibilidad (Recall): {sensibilidad_c:.2f}\")\n",
        "print(f\"Puntuación F1 (F1-Score): {puntuacion_F1_c:.2f}\")\n",
        "\n",
        "# Optimización de hiperparámetros\n",
        "parametros = {'n_estimators': [100, 200], 'max_depth': [5, 10, None]}\n",
        "modelo_base = RandomForestClassifier(random_state=42)\n",
        "optimizador = GridSearchCV(modelo_base, parametros, cv=5, scoring='f1')\n",
        "optimizador.fit(X_train_c, y_train_c)\n",
        "\n",
        "mejor_modelo = optimizador.best_estimator_\n",
        "mejores_parametros = optimizador.best_params_\n",
        "print(\"\\nMejores parámetros encontrados para el modelo de clasificación:\", mejores_parametros)\n",
        "\n",
        "predicciones_opt = mejor_modelo.predict(X_test_c)\n",
        "precision_opt = accuracy_score(y_test_c, predicciones_opt)\n",
        "exactitud_opt = precision_score(y_test_c, predicciones_opt)\n",
        "sensibilidad_opt = recall_score(y_test_c, predicciones_opt)\n",
        "puntuacion_F1_opt = f1_score(y_test_c, predicciones_opt)\n",
        "\n",
        "print(\"\\nResultados del Modelo de Clasificación OPTIMIZADO:\")\n",
        "print(f\"Precisión (Accuracy): {precision_opt:.2f}\")\n",
        "print(f\"Exactitud (Precision): {exactitud_opt:.2f}\")\n",
        "print(f\"Sensibilidad (Recall): {sensibilidad_opt:.2f}\")\n",
        "print(f\"Puntuación F1 (F1-Score): {puntuacion_F1_opt:.2f}\")\n",
        "\n",
        "# 3. Análisis Supervisado: Regresión Lineal\n",
        "# Objetivo: Predecir la calificación final (Final_Grade)\n",
        "X_regresion = datos.drop(['Dropped_Out', 'Final_Grade'], axis=1)\n",
        "y_regresion = datos['Final_Grade']\n",
        "X_train_r, X_test_r, y_train_r, y_test_r = train_test_split(X_regresion, y_regresion, test_size=0.3, random_state=42)\n",
        "\n",
        "modelo_regresion = LinearRegression()\n",
        "modelo_regresion.fit(X_train_r, y_train_r)\n",
        "predicciones_r = modelo_regresion.predict(X_test_r)\n",
        "\n",
        "rmse = np.sqrt(mean_squared_error(y_test_r, predicciones_r))\n",
        "r2 = r2_score(y_test_r, predicciones_r)\n",
        "\n",
        "print(\"\\nResultados del Modelo de Regresión (Regresión Lineal):\")\n",
        "print(f\"Error Cuadrático Medio de la Raíz (RMSE): {rmse:.2f}\")\n",
        "print(f\"Coeficiente de Determinación (R2): {r2:.2f}\")"
      ]
    }
  ]
}